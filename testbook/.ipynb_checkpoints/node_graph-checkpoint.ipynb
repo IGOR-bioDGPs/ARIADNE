{
 "cells": [
  {
   "cell_type": "markdown",
   "id": "effe1eaf-1af5-4d42-8634-41f06828280c",
   "metadata": {},
   "source": [
    "# Node Graph"
   ]
  },
  {
   "cell_type": "code",
   "execution_count": 2,
   "id": "9ec58b38-1e3a-4259-a37e-96721fc0e09f",
   "metadata": {
    "tags": []
   },
   "outputs": [],
   "source": [
    "# Some prerequisites, do not forget to run this!\n",
    "!pip install ipycytoscape --quiet"
   ]
  },
  {
   "cell_type": "code",
   "execution_count": 4,
   "id": "f374c5cb-d0b5-4dd0-850a-f91c61a3bd2f",
   "metadata": {
    "tags": []
   },
   "outputs": [],
   "source": [
    "# Some more prerequisites, just run this\n",
    "import networkx as nx\n",
    "import pandas as pd\n",
    "import json\n",
    "from ipycytoscape import *"
   ]
  },
  {
   "cell_type": "code",
   "execution_count": 9,
   "id": "4c144ea9-ff65-46fe-be4c-4bcb4c7d019e",
   "metadata": {
    "tags": []
   },
   "outputs": [
    {
     "name": "stdout",
     "output_type": "stream",
     "text": [
      "Downloading...\n",
      "From: https://drive.google.com/uc?id=1HTLzev0qntTnXJ2ooROxxuYVmNqH0Fkd\n",
      "To: /Users/alexandroskastrinogiannis/Documents/GitHub/MaterialCheck/MaterialBook/data_materialcheck.csv\n",
      "100%|██████████████████████████████████████| 2.93k/2.93k [00:00<00:00, 4.30MB/s]\n"
     ]
    }
   ],
   "source": [
    "df_nodes = pd.read_csv('./data/data_ariadne_nodes.csv', sep=';')\n",
    "df_edges = pd.read_csv('./data/data_ariadne_edges.csv', sep=';')\n",
    "\n",
    "df_nodes = df_nodes.fillna('')\n",
    "df_edges = df_edges.fillna('')\n",
    "\n",
    "df_edges"
   ]
  },
  {
   "cell_type": "markdown",
   "id": "677aa64f-07f7-47a0-90eb-7fadefc0ac58",
   "metadata": {
    "tags": []
   },
   "source": [
    "import networkx as nx\n",
    "import pandas as pd\n",
    "import json\n",
    "from ipycytoscape import *\n"
   ]
  },
  {
   "cell_type": "code",
   "execution_count": 6,
   "id": "c9c259df-f865-40e2-a45a-3b32090d9313",
   "metadata": {
    "tags": []
   },
   "outputs": [],
   "source": [
    "# Import stuff to dynamically update the graph\n",
    "from ipywidgets import Output\n",
    "from IPython.display import display"
   ]
  },
  {
   "cell_type": "code",
   "execution_count": 8,
   "id": "7edfce4e-44af-4107-a736-47b77bb64d7b",
   "metadata": {
    "tags": []
   },
   "outputs": [
    {
     "data": {
      "application/vnd.jupyter.widget-view+json": {
       "model_id": "b9c96acc2ff2488c9526882ed6c882a8",
       "version_major": 2,
       "version_minor": 0
      },
      "text/plain": [
       "CytoscapeWidget(cytoscape_layout={'name': 'circle'}, cytoscape_style=[{'selector': 'node', 'style': {'font-fam…"
      ]
     },
     "metadata": {},
     "output_type": "display_data"
    },
    {
     "data": {
      "application/vnd.jupyter.widget-view+json": {
       "model_id": "c75ed2689f2e42848e306254fa2388d0",
       "version_major": 2,
       "version_minor": 0
      },
      "text/plain": [
       "Output()"
      ]
     },
     "metadata": {},
     "output_type": "display_data"
    }
   ],
   "source": [
    "# graph constructor function\n",
    "def const_graph(nodes_df, edges_df, init):\n",
    "    # convert df to dicts\n",
    "    nodes_dict = nodes_df.to_dict('records')\n",
    "    edges_dict = edges_df.to_dict('records')\n",
    "    # start building nodes\n",
    "    data_keys = ['id', 'label'] # cyto logic\n",
    "    rest_keys = ['score', 'idInt', 'name', 'score', 'group', 'removed', 'selected',\n",
    "                 'selectable', 'locked', 'grabbed', 'grabbable'] # cyto extra logic\n",
    "    nodes_graph_list = []\n",
    "    # now loop over nodes\n",
    "    for node in nodes_dict:\n",
    "        dict_node = {}\n",
    "        data_sub_dict = {'data':{el:node[el] for el in data_keys}} # get MUST data info\n",
    "        rest_sub_dict = {el:node[el] for el in node.keys() if el in rest_keys} # get extra data info\n",
    "        dict_node = {**data_sub_dict,**rest_sub_dict} # zip them\n",
    "        nodes_graph_list.append(dict_node) # add to the list\n",
    "    # start building edges\n",
    "    data_keys  = ['id', 'source', 'target'] # cyto logic\n",
    "    data_keys2 = ['label', 'classes'] # cyto logic\n",
    "    rest_keys  = ['score', 'weight', 'group', 'networkId', 'networkGroupId', 'intn',\n",
    "                  'rIntnId', 'group', 'removed', 'selected', 'selectable', 'locked',\n",
    "                  'grabbed', 'gra bbable', 'classes'] # cyto extra logic\n",
    "    edges_graph_list = []\n",
    "    # now loop over edges\n",
    "    for edge in edges_dict:\n",
    "        dict_edge = {}\n",
    "        data_sub_dict = {el:edge[el] for el in data_keys} # get MUST data info\n",
    "        data_sub_dict2 = {el:edge[el] for el in edge.keys() if el in data_keys2} # get MUST_2 data info\n",
    "        rest_sub_dict = {el:edge[el] for el in edge.keys() if el in rest_keys} # get extra data info\n",
    "        dict_edge = {'data':{**data_sub_dict,**data_sub_dict},**rest_sub_dict} # zip them\n",
    "        edges_graph_list.append(dict_edge) # add to the list\n",
    "    # create the combined edge+node dictionary\n",
    "    total_graph_dict = {'nodes': nodes_graph_list, 'edges':edges_graph_list}\n",
    "    # building the style\n",
    "    all_node_style = ['background-color', 'background-opacity',\n",
    "                     'font-family', 'font-size', 'label', 'width',\n",
    "                     'shape', 'height', 'width', 'text-valign', 'text-halign', 'underlay-color' ,'underlay-shape']\n",
    "    all_edge_style = ['background-color', 'background-opacity',\n",
    "                     'font-family', 'font-size', 'label', 'width', 'line-color', 'arrow', 'type', 'target-arrow-shape']\n",
    "    total_style_dict = {}\n",
    "    style_elements = []\n",
    "    # now construct the node styles\n",
    "    for node in nodes_dict:\n",
    "        node_dict = {'selector': f'node[id = \\\"{node[\"id\"]}\\\"]'}\n",
    "        style_dict ={\"style\": { el:node[el] for el in node.keys() if el in all_node_style}}\n",
    "        node_dict.update(style_dict)\n",
    "        style_elements.append(node_dict)\n",
    "    # now construct the edge styles\n",
    "    for edge in edges_dict:\n",
    "        edge_dict = {'selector': f'edge[id = \\\"{edge[\"id\"]}\\\"]'}\n",
    "        style_dict = {\"style\": { el:edge[el] for el in edge.keys() if el in all_edge_style}}\n",
    "        edge_dict.update(style_dict)\n",
    "        style_elements.append(edge_dict)\n",
    "    # now create the graph\n",
    "    data_graph = json.dumps(total_graph_dict)\n",
    "    json_to_python = json.loads(data_graph)\n",
    "    # result_cyto = CytoscapeWidget()\n",
    "    cyto_graph.graph.clear()\n",
    "    cyto_graph.graph.add_graph_from_json(json_to_python)\n",
    "    cyto_graph.set_style(style_elements)\n",
    "    # also save the initial json to a file\n",
    "    if init:\n",
    "        json_filename = 'init_config.json'\n",
    "        style_filename = 'init_style.json'\n",
    "        cyto_graph.set_layout(name = 'circle')\n",
    "    else:\n",
    "        json_filename = 'curr_config.json'\n",
    "        style_filename = 'curr_style.json'\n",
    "        cyto_graph.set_layout(name = 'breadthfirst')\n",
    "    with open(json_filename, 'w') as outfile:\n",
    "        json.dump(json_to_python, outfile)\n",
    "    with open(style_filename, 'w') as outfile:\n",
    "        json.dump(json_to_python, outfile)\n",
    "    # and return it\n",
    "    #return result_cyto\n",
    "\n",
    "# reset the graph\n",
    "def res_graph(node):\n",
    "    with out:\n",
    "        cyto_graph.graph.clear()\n",
    "        const_graph(df_nodes[df_nodes['subgraph'] == 'initial'], df_edges[df_nodes['subgraph'] == 'initial'], init=True)\n",
    "\n",
    "def log_clicks(node):\n",
    "    with out:\n",
    "        new_nodes = df_nodes['subgraph'] == node['data']['id'].replace(' ','')\n",
    "        const_graph(df_nodes[new_nodes], df_edges[new_nodes], init=False)\n",
    "        if len(df_edges[new_nodes]) == 0 or len(df_nodes[new_nodes]) == 0:\n",
    "            print('Empty subgraph, resetting view...')\n",
    "            res_graph(node)\n",
    "  \n",
    "\n",
    "# instantiate an jupyternotebook output\n",
    "out = Output()\n",
    "# instantiate a graph\n",
    "cyto_graph = CytoscapeWidget() # ok now create the cytoscape object\n",
    "const_graph(df_nodes[df_nodes['subgraph'] == 'initial'], df_edges[df_nodes['subgraph'] == 'initial'], init=True)\n",
    "\n",
    "#cyto_graph.on('node', 'click', log_clicks) # dynamically listen to left clicks\n",
    "cyto_graph.on('node', 'cxttap', res_graph) # dynamically listen to right clicks\n",
    "cyto_graph.on('node', 'click', log_clicks)\n",
    "\n",
    "\n",
    "display(cyto_graph) # display the object\n",
    "display(out) # display the output"
   ]
  },
  {
   "cell_type": "code",
   "execution_count": null,
   "id": "43f19758-6520-449f-a33f-90608695cf8e",
   "metadata": {},
   "outputs": [],
   "source": []
  }
 ],
 "metadata": {
  "kernelspec": {
   "display_name": "Python 3 (ipykernel)",
   "language": "python",
   "name": "python3"
  },
  "language_info": {
   "codemirror_mode": {
    "name": "ipython",
    "version": 3
   },
   "file_extension": ".py",
   "mimetype": "text/x-python",
   "name": "python",
   "nbconvert_exporter": "python",
   "pygments_lexer": "ipython3",
   "version": "3.9.13"
  }
 },
 "nbformat": 4,
 "nbformat_minor": 5
}

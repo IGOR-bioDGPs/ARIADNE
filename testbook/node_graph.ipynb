{
 "cells": [
  {
   "cell_type": "markdown",
   "id": "effe1eaf-1af5-4d42-8634-41f06828280c",
   "metadata": {},
   "source": [
    "# Node Graph"
   ]
  },
  {
   "cell_type": "code",
   "execution_count": 2,
   "id": "9ec58b38-1e3a-4259-a37e-96721fc0e09f",
   "metadata": {
    "tags": []
   },
   "outputs": [],
   "source": [
    "# Some prerequisites, do not forget to run this!\n",
    "!pip install ipycytoscape --quiet"
   ]
  },
  {
   "cell_type": "code",
   "execution_count": 4,
   "id": "f374c5cb-d0b5-4dd0-850a-f91c61a3bd2f",
   "metadata": {
    "tags": []
   },
   "outputs": [],
   "source": [
    "# Some more prerequisites, just run this\n",
    "import networkx as nx\n",
    "import pandas as pd\n",
    "import json\n",
    "from ipycytoscape import *"
   ]
  },
  {
   "cell_type": "code",
   "execution_count": 9,
   "id": "4c144ea9-ff65-46fe-be4c-4bcb4c7d019e",
   "metadata": {
    "tags": []
   },
   "outputs": [
    {
     "name": "stdout",
     "output_type": "stream",
     "text": [
      "Downloading...\n",
      "From: https://drive.google.com/uc?id=1HTLzev0qntTnXJ2ooROxxuYVmNqH0Fkd\n",
      "To: /Users/alexandroskastrinogiannis/Documents/GitHub/MaterialCheck/MaterialBook/data_materialcheck.csv\n",
      "100%|██████████████████████████████████████| 2.93k/2.93k [00:00<00:00, 4.30MB/s]\n"
     ]
    }
   ],
   "source": [
    "# now import the file\n",
    "!pip install gdown --quiet\n",
    "!gdown 1HTLzev0qntTnXJ2ooROxxuYVmNqH0Fkd"
   ]
  },
  {
   "cell_type": "markdown",
   "id": "677aa64f-07f7-47a0-90eb-7fadefc0ac58",
   "metadata": {
    "tags": []
   },
   "source": [
    "import networkx as nx\n",
    "import pandas as pd\n",
    "import json\n",
    "from ipycytoscape import *\n"
   ]
  },
  {
   "cell_type": "code",
   "execution_count": 5,
   "id": "e7893b79-cd6d-44ff-9666-d6b9e7800760",
   "metadata": {
    "tags": []
   },
   "outputs": [],
   "source": [
    "# and read it to a dataframe\n",
    "df = pd.read_csv('/Users/alexandroskastrinogiannis/Documents/GitHub/MaterialCheck/MaterialBook/data/data_materialcheck.csv', sep=';')\n",
    "df = df.fillna('')"
   ]
  },
  {
   "cell_type": "code",
   "execution_count": 6,
   "id": "c9c259df-f865-40e2-a45a-3b32090d9313",
   "metadata": {
    "tags": []
   },
   "outputs": [],
   "source": [
    "# Import stuff to dynamically update the graph\n",
    "from ipywidgets import Output\n",
    "from IPython.display import display"
   ]
  },
  {
   "cell_type": "code",
   "execution_count": 8,
   "id": "7edfce4e-44af-4107-a736-47b77bb64d7b",
   "metadata": {
    "tags": []
   },
   "outputs": [
    {
     "data": {
      "application/vnd.jupyter.widget-view+json": {
       "model_id": "b9c96acc2ff2488c9526882ed6c882a8",
       "version_major": 2,
       "version_minor": 0
      },
      "text/plain": [
       "CytoscapeWidget(cytoscape_layout={'name': 'circle'}, cytoscape_style=[{'selector': 'node', 'style': {'font-fam…"
      ]
     },
     "metadata": {},
     "output_type": "display_data"
    },
    {
     "data": {
      "application/vnd.jupyter.widget-view+json": {
       "model_id": "c75ed2689f2e42848e306254fa2388d0",
       "version_major": 2,
       "version_minor": 0
      },
      "text/plain": [
       "Output()"
      ]
     },
     "metadata": {},
     "output_type": "display_data"
    }
   ],
   "source": [
    "\n",
    "# instantiate an jupyternotebook output\n",
    "out = Output()\n",
    "# style\n",
    "fin_style = []\n",
    "# define a function that draws the network wrt a selected node\n",
    "def draw_net(node_filter): \n",
    "    base_graph = nx.Graph() # reset the network obj\n",
    "    for index, row in df.iterrows(): # iterate the dataframe\n",
    "        if row['subgraph'] == node_filter.replace(' ',''): # if the clicked node has a subgraph\n",
    "            base_graph.add_node(row['connection_to']) # add node\n",
    "            base_graph.add_node(row['connection_from']) # add node\n",
    "            base_graph.add_edge(row['connection_to'], row['connection_from']) # now connect the nodes\n",
    "            rank = row['rank'] # also use rank as output\n",
    "            subgraph = row['subgraph'] # also use subgraph as output\n",
    "        elif row['label'] == node_filter: # if the clicked node does not have a subgraph, but it is alone\n",
    "            base_graph.add_node(row['label']) # just draw the node on its own\n",
    "            rank = row['rank'] # also use rank as output\n",
    "            subgraph = row['subgraph'] # also use subgraph as output\n",
    "    return [base_graph,rank,subgraph] # return the drawn graph\n",
    "# define a function that logs mouse clicks\n",
    "def log_clicks(node):\n",
    "    # style\n",
    "    fin_style = []\n",
    "    with out: # while the graph is drawn\n",
    "        [net,rank,subgraph] = draw_net(node['data']['id']) # draw the network\n",
    "        cytoscapeobj.graph.clear() # reset cytoscape object\n",
    "        cytoscapeobj.graph.add_graph_from_networkx(net, directed=True) # now convert the network to a cytoscape object\n",
    "        cytoscapeobj.set_layout(name = 'dagre')  # it is hierarchical, so show it like that!\n",
    "        for node in net.nodes: # now iterate the nodes\n",
    "            shape = df[df.eval(\"(label == \\\"\"+node+\"\\\") & (\"+\"subgraph == \\\"\"+subgraph+\"\\\") & (rank == \"+str(rank)+\")\")]['shape'].values # get the shape by filtering the dataframe\n",
    "            if len(shape) == 0: # if not found, i.e. 0th level node\n",
    "                shape = ['rectangle'] # draw as rectangle\n",
    "            node_dict = {'selector': f'node[id = \\\"{node}\\\"]'} # get node id in cyto logic\n",
    "            style_dict = {\"style\": {'font-family': 'helvetica','font-size': '20px','label': node, 'shape':shape[0]}} # put node id and shape in cyto logic\n",
    "            node_dict.update(style_dict) # update dict\n",
    "            fin_style.append(node_dict) # append to style list\n",
    "        cytoscapeobj.set_style(fin_style) # now set the final style\n",
    "# just initialise the 0th level graph\n",
    "def init_graph():\n",
    "    base_graph = nx.Graph() # reset the network obj\n",
    "    for index, row in df.iterrows(): # iterate the dataframe\n",
    "        if row['subgraph'] == 'initial' and row['rank'] == 1: # only draw the initial and 0th level nodes\n",
    "        #base_graph.add_node(row['connection_to'])\n",
    "        #base_graph.add_node(row['connection_from'])\n",
    "            base_graph.add_edge(row['connection_to'], row['connection_from']) # add the edges, nodes should be added automatically\n",
    "    cytoscapeobj.graph.clear() # reset cytoscape object\n",
    "    cytoscapeobj.graph.add_graph_from_networkx(base_graph, directed=True) # now convert the network to a cytoscape object\n",
    "    cytoscapeobj.set_layout(name = 'circle') # show it in a circular fashion\n",
    "    cytoscapeobj.set_style(my_style) # set the style\n",
    "# reset the graph\n",
    "def res_graph(node):\n",
    "    with out: # reset the DRAWN graph\n",
    "        base_graph = nx.Graph() # reset the network obj\n",
    "        for index, row in df.iterrows(): # iterate the dataframe\n",
    "            if row['subgraph'] == 'initial' and row['rank'] == 1: # only draw the initial and 0th level nodes \n",
    "            #base_graph.add_node(row['connection_to'])\n",
    "            #base_graph.add_node(row['connection_from'])\n",
    "                base_graph.add_edge(row['connection_to'], row['connection_from']) # add the edges, nodes should be added automatically\n",
    "        cytoscapeobj.graph.clear() # reset cytoscape object\n",
    "        cytoscapeobj.graph.add_graph_from_networkx(base_graph, directed=True) # now convert the network to a cytoscape object\n",
    "        cytoscapeobj.set_layout(name = 'circle') # show it in a circular fashion\n",
    "        cytoscapeobj.set_style(my_style) # set the style\n",
    "    \n",
    "cytoscapeobj = CytoscapeWidget() # ok now create the cytoscape object\n",
    "my_style = [ # a variable for our initial style\n",
    "    {'selector': 'node','style': {\n",
    "        'font-family': 'helvetica',\n",
    "        'font-size': '20px',\n",
    "        'label': 'data(id)', 'shape':'rectangle'}},\n",
    "    ]\n",
    "init_graph() # init the network graph\n",
    "#cytoscapeobj.set_style(my_style) # set the style\n",
    "#\n",
    "cytoscapeobj.on('node', 'click', log_clicks) # dynamically listen to left clicks\n",
    "cytoscapeobj.on('node', 'cxttap', res_graph) # dynamically listen to right clicks\n",
    "\n",
    "display(cytoscapeobj) # display the object\n",
    "display(out) # display the output"
   ]
  },
  {
   "cell_type": "code",
   "execution_count": null,
   "id": "43f19758-6520-449f-a33f-90608695cf8e",
   "metadata": {},
   "outputs": [],
   "source": []
  }
 ],
 "metadata": {
  "kernelspec": {
   "display_name": "Python 3 (ipykernel)",
   "language": "python",
   "name": "python3"
  },
  "language_info": {
   "codemirror_mode": {
    "name": "ipython",
    "version": 3
   },
   "file_extension": ".py",
   "mimetype": "text/x-python",
   "name": "python",
   "nbconvert_exporter": "python",
   "pygments_lexer": "ipython3",
   "version": "3.11.2"
  }
 },
 "nbformat": 4,
 "nbformat_minor": 5
}

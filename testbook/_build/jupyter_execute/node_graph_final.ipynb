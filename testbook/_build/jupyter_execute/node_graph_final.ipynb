{
 "cells": [
  {
   "cell_type": "markdown",
   "id": "15590f01-ac46-42fc-b465-cdb55fcb3c92",
   "metadata": {},
   "source": [
    "# Node Graph"
   ]
  },
  {
   "cell_type": "code",
   "execution_count": 1,
   "id": "37921938-7946-460c-9058-ec76f8727474",
   "metadata": {
    "tags": [
     "remove-input"
    ]
   },
   "outputs": [
    {
     "name": "stdout",
     "output_type": "stream",
     "text": [
      "\r\n",
      "\u001b[1m[\u001b[0m\u001b[34;49mnotice\u001b[0m\u001b[1;39;49m]\u001b[0m\u001b[39;49m A new release of pip is available: \u001b[0m\u001b[31;49m23.0.1\u001b[0m\u001b[39;49m -> \u001b[0m\u001b[32;49m23.2.1\u001b[0m\r\n",
      "\u001b[1m[\u001b[0m\u001b[34;49mnotice\u001b[0m\u001b[1;39;49m]\u001b[0m\u001b[39;49m To update, run: \u001b[0m\u001b[32;49mpip install --upgrade pip\u001b[0m\r\n"
     ]
    }
   ],
   "source": [
    "# Some prerequisites, do not forget to run this!\n",
    "!pip install ipycytoscape --quiet"
   ]
  },
  {
   "cell_type": "code",
   "execution_count": 2,
   "id": "5324cda7-f8e1-4aaa-8baf-18c026ca321a",
   "metadata": {
    "tags": [
     "remove-input"
    ]
   },
   "outputs": [],
   "source": [
    "# Some more prerequisites, just run this\n",
    "import networkx as nx\n",
    "import pandas as pd\n",
    "import json\n",
    "from ipycytoscape import *"
   ]
  },
  {
   "cell_type": "code",
   "execution_count": 3,
   "id": "ff567b6d-a2fa-4981-996f-15d948a44b54",
   "metadata": {
    "tags": [
     "remove-input",
     "remove-output"
    ]
   },
   "outputs": [
    {
     "data": {
      "text/html": [
       "<div>\n",
       "<style scoped>\n",
       "    .dataframe tbody tr th:only-of-type {\n",
       "        vertical-align: middle;\n",
       "    }\n",
       "\n",
       "    .dataframe tbody tr th {\n",
       "        vertical-align: top;\n",
       "    }\n",
       "\n",
       "    .dataframe thead th {\n",
       "        text-align: right;\n",
       "    }\n",
       "</style>\n",
       "<table border=\"1\" class=\"dataframe\">\n",
       "  <thead>\n",
       "    <tr style=\"text-align: right;\">\n",
       "      <th></th>\n",
       "      <th>id,source,target,label,background-color</th>\n",
       "    </tr>\n",
       "  </thead>\n",
       "  <tbody>\n",
       "    <tr>\n",
       "      <th>0</th>\n",
       "      <td>1,Project Start,Literature,,black</td>\n",
       "    </tr>\n",
       "    <tr>\n",
       "      <th>1</th>\n",
       "      <td>2,Literature,Unpaywall,,black</td>\n",
       "    </tr>\n",
       "    <tr>\n",
       "      <th>2</th>\n",
       "      <td>3,Literature,How to get a paper,,black</td>\n",
       "    </tr>\n",
       "    <tr>\n",
       "      <th>3</th>\n",
       "      <td>4,Literature,Literature Excel organization,,black</td>\n",
       "    </tr>\n",
       "    <tr>\n",
       "      <th>4</th>\n",
       "      <td>5,Literature,Elicit,,black</td>\n",
       "    </tr>\n",
       "    <tr>\n",
       "      <th>...</th>\n",
       "      <td>...</td>\n",
       "    </tr>\n",
       "    <tr>\n",
       "      <th>223</th>\n",
       "      <td>224,Social Media,Mastodon,,black</td>\n",
       "    </tr>\n",
       "    <tr>\n",
       "      <th>224</th>\n",
       "      <td>225,Social Media,TikTok,,black</td>\n",
       "    </tr>\n",
       "    <tr>\n",
       "      <th>225</th>\n",
       "      <td>226,Social Media,Instagram,,black</td>\n",
       "    </tr>\n",
       "    <tr>\n",
       "      <th>226</th>\n",
       "      <td>227,Social Media,YouTube,,black</td>\n",
       "    </tr>\n",
       "    <tr>\n",
       "      <th>227</th>\n",
       "      <td>228,Dissemination,Project End,,black</td>\n",
       "    </tr>\n",
       "  </tbody>\n",
       "</table>\n",
       "<p>228 rows × 1 columns</p>\n",
       "</div>"
      ],
      "text/plain": [
       "               id,source,target,label,background-color\n",
       "0                    1,Project Start,Literature,,black\n",
       "1                        2,Literature,Unpaywall,,black\n",
       "2               3,Literature,How to get a paper,,black\n",
       "3    4,Literature,Literature Excel organization,,black\n",
       "4                           5,Literature,Elicit,,black\n",
       "..                                                 ...\n",
       "223                   224,Social Media,Mastodon,,black\n",
       "224                     225,Social Media,TikTok,,black\n",
       "225                  226,Social Media,Instagram,,black\n",
       "226                    227,Social Media,YouTube,,black\n",
       "227               228,Dissemination,Project End,,black\n",
       "\n",
       "[228 rows x 1 columns]"
      ]
     },
     "execution_count": 3,
     "metadata": {},
     "output_type": "execute_result"
    }
   ],
   "source": [
    "df_nodes = pd.read_csv('./data/data_ariadne_nodes.csv', sep=';')\n",
    "df_edges = pd.read_csv('./data/data_ariadne_edges.csv', sep=';')\n",
    "\n",
    "df_nodes = df_nodes.fillna('')\n",
    "df_edges = df_edges.fillna('')\n",
    "\n",
    "df_edges"
   ]
  },
  {
   "cell_type": "code",
   "execution_count": 4,
   "id": "99dd9cab-ae90-4b76-bdc7-f23173ae74d0",
   "metadata": {
    "tags": [
     "remove-input",
     "remove-output"
    ]
   },
   "outputs": [],
   "source": [
    "# Import stuff to dynamically update the graph\n",
    "from ipywidgets import Output\n",
    "from IPython.display import display"
   ]
  },
  {
   "cell_type": "code",
   "execution_count": 5,
   "id": "c6223e1d-98d3-420f-91d0-819d81a013ef",
   "metadata": {
    "tags": [
     "remove-input"
    ]
   },
   "outputs": [
    {
     "ename": "KeyError",
     "evalue": "'subgraph'",
     "output_type": "error",
     "traceback": [
      "\u001b[0;31m---------------------------------------------------------------------------\u001b[0m",
      "\u001b[0;31mKeyError\u001b[0m                                  Traceback (most recent call last)",
      "File \u001b[0;32m/opt/hostedtoolcache/Python/3.8.18/x64/lib/python3.8/site-packages/pandas/core/indexes/base.py:3653\u001b[0m, in \u001b[0;36mIndex.get_loc\u001b[0;34m(self, key)\u001b[0m\n\u001b[1;32m   3652\u001b[0m \u001b[38;5;28;01mtry\u001b[39;00m:\n\u001b[0;32m-> 3653\u001b[0m     \u001b[38;5;28;01mreturn\u001b[39;00m \u001b[38;5;28;43mself\u001b[39;49m\u001b[38;5;241;43m.\u001b[39;49m\u001b[43m_engine\u001b[49m\u001b[38;5;241;43m.\u001b[39;49m\u001b[43mget_loc\u001b[49m\u001b[43m(\u001b[49m\u001b[43mcasted_key\u001b[49m\u001b[43m)\u001b[49m\n\u001b[1;32m   3654\u001b[0m \u001b[38;5;28;01mexcept\u001b[39;00m \u001b[38;5;167;01mKeyError\u001b[39;00m \u001b[38;5;28;01mas\u001b[39;00m err:\n",
      "File \u001b[0;32m/opt/hostedtoolcache/Python/3.8.18/x64/lib/python3.8/site-packages/pandas/_libs/index.pyx:147\u001b[0m, in \u001b[0;36mpandas._libs.index.IndexEngine.get_loc\u001b[0;34m()\u001b[0m\n",
      "File \u001b[0;32m/opt/hostedtoolcache/Python/3.8.18/x64/lib/python3.8/site-packages/pandas/_libs/index.pyx:176\u001b[0m, in \u001b[0;36mpandas._libs.index.IndexEngine.get_loc\u001b[0;34m()\u001b[0m\n",
      "File \u001b[0;32mpandas/_libs/hashtable_class_helper.pxi:7080\u001b[0m, in \u001b[0;36mpandas._libs.hashtable.PyObjectHashTable.get_item\u001b[0;34m()\u001b[0m\n",
      "File \u001b[0;32mpandas/_libs/hashtable_class_helper.pxi:7088\u001b[0m, in \u001b[0;36mpandas._libs.hashtable.PyObjectHashTable.get_item\u001b[0;34m()\u001b[0m\n",
      "\u001b[0;31mKeyError\u001b[0m: 'subgraph'",
      "\nThe above exception was the direct cause of the following exception:\n",
      "\u001b[0;31mKeyError\u001b[0m                                  Traceback (most recent call last)",
      "Cell \u001b[0;32mIn[5], line 97\u001b[0m\n\u001b[1;32m     95\u001b[0m \u001b[38;5;66;03m# instantiate a graph\u001b[39;00m\n\u001b[1;32m     96\u001b[0m cyto_graph \u001b[38;5;241m=\u001b[39m CytoscapeWidget() \u001b[38;5;66;03m# ok now create the cytoscape object\u001b[39;00m\n\u001b[0;32m---> 97\u001b[0m const_graph(df_nodes[\u001b[43mdf_nodes\u001b[49m\u001b[43m[\u001b[49m\u001b[38;5;124;43m'\u001b[39;49m\u001b[38;5;124;43msubgraph\u001b[39;49m\u001b[38;5;124;43m'\u001b[39;49m\u001b[43m]\u001b[49m \u001b[38;5;241m==\u001b[39m \u001b[38;5;124m'\u001b[39m\u001b[38;5;124minitial\u001b[39m\u001b[38;5;124m'\u001b[39m], df_edges[df_nodes[\u001b[38;5;124m'\u001b[39m\u001b[38;5;124msubgraph\u001b[39m\u001b[38;5;124m'\u001b[39m] \u001b[38;5;241m==\u001b[39m \u001b[38;5;124m'\u001b[39m\u001b[38;5;124minitial\u001b[39m\u001b[38;5;124m'\u001b[39m], init\u001b[38;5;241m=\u001b[39m\u001b[38;5;28;01mTrue\u001b[39;00m)\n\u001b[1;32m     99\u001b[0m \u001b[38;5;66;03m#cyto_graph.on('node', 'click', log_clicks) # dynamically listen to left clicks\u001b[39;00m\n\u001b[1;32m    100\u001b[0m cyto_graph\u001b[38;5;241m.\u001b[39mon(\u001b[38;5;124m'\u001b[39m\u001b[38;5;124mnode\u001b[39m\u001b[38;5;124m'\u001b[39m, \u001b[38;5;124m'\u001b[39m\u001b[38;5;124mcxttap\u001b[39m\u001b[38;5;124m'\u001b[39m, res_graph) \u001b[38;5;66;03m# dynamically listen to right clicks\u001b[39;00m\n",
      "File \u001b[0;32m/opt/hostedtoolcache/Python/3.8.18/x64/lib/python3.8/site-packages/pandas/core/frame.py:3761\u001b[0m, in \u001b[0;36mDataFrame.__getitem__\u001b[0;34m(self, key)\u001b[0m\n\u001b[1;32m   3759\u001b[0m \u001b[38;5;28;01mif\u001b[39;00m \u001b[38;5;28mself\u001b[39m\u001b[38;5;241m.\u001b[39mcolumns\u001b[38;5;241m.\u001b[39mnlevels \u001b[38;5;241m>\u001b[39m \u001b[38;5;241m1\u001b[39m:\n\u001b[1;32m   3760\u001b[0m     \u001b[38;5;28;01mreturn\u001b[39;00m \u001b[38;5;28mself\u001b[39m\u001b[38;5;241m.\u001b[39m_getitem_multilevel(key)\n\u001b[0;32m-> 3761\u001b[0m indexer \u001b[38;5;241m=\u001b[39m \u001b[38;5;28;43mself\u001b[39;49m\u001b[38;5;241;43m.\u001b[39;49m\u001b[43mcolumns\u001b[49m\u001b[38;5;241;43m.\u001b[39;49m\u001b[43mget_loc\u001b[49m\u001b[43m(\u001b[49m\u001b[43mkey\u001b[49m\u001b[43m)\u001b[49m\n\u001b[1;32m   3762\u001b[0m \u001b[38;5;28;01mif\u001b[39;00m is_integer(indexer):\n\u001b[1;32m   3763\u001b[0m     indexer \u001b[38;5;241m=\u001b[39m [indexer]\n",
      "File \u001b[0;32m/opt/hostedtoolcache/Python/3.8.18/x64/lib/python3.8/site-packages/pandas/core/indexes/base.py:3655\u001b[0m, in \u001b[0;36mIndex.get_loc\u001b[0;34m(self, key)\u001b[0m\n\u001b[1;32m   3653\u001b[0m     \u001b[38;5;28;01mreturn\u001b[39;00m \u001b[38;5;28mself\u001b[39m\u001b[38;5;241m.\u001b[39m_engine\u001b[38;5;241m.\u001b[39mget_loc(casted_key)\n\u001b[1;32m   3654\u001b[0m \u001b[38;5;28;01mexcept\u001b[39;00m \u001b[38;5;167;01mKeyError\u001b[39;00m \u001b[38;5;28;01mas\u001b[39;00m err:\n\u001b[0;32m-> 3655\u001b[0m     \u001b[38;5;28;01mraise\u001b[39;00m \u001b[38;5;167;01mKeyError\u001b[39;00m(key) \u001b[38;5;28;01mfrom\u001b[39;00m \u001b[38;5;21;01merr\u001b[39;00m\n\u001b[1;32m   3656\u001b[0m \u001b[38;5;28;01mexcept\u001b[39;00m \u001b[38;5;167;01mTypeError\u001b[39;00m:\n\u001b[1;32m   3657\u001b[0m     \u001b[38;5;66;03m# If we have a listlike key, _check_indexing_error will raise\u001b[39;00m\n\u001b[1;32m   3658\u001b[0m     \u001b[38;5;66;03m#  InvalidIndexError. Otherwise we fall through and re-raise\u001b[39;00m\n\u001b[1;32m   3659\u001b[0m     \u001b[38;5;66;03m#  the TypeError.\u001b[39;00m\n\u001b[1;32m   3660\u001b[0m     \u001b[38;5;28mself\u001b[39m\u001b[38;5;241m.\u001b[39m_check_indexing_error(key)\n",
      "\u001b[0;31mKeyError\u001b[0m: 'subgraph'"
     ]
    }
   ],
   "source": [
    "# graph constructor function\n",
    "def const_graph(nodes_df, edges_df, init):\n",
    "    # convert df to dicts\n",
    "    nodes_dict = nodes_df.to_dict('records')\n",
    "    edges_dict = edges_df.to_dict('records')\n",
    "    # start building nodes\n",
    "    data_keys = ['id', 'label'] # cyto logic\n",
    "    rest_keys = ['score', 'idInt', 'name', 'score', 'group', 'removed', 'selected',\n",
    "                 'selectable', 'locked', 'grabbed', 'grabbable'] # cyto extra logic\n",
    "    nodes_graph_list = []\n",
    "    # now loop over nodes\n",
    "    for node in nodes_dict:\n",
    "        dict_node = {}\n",
    "        data_sub_dict = {'data':{el:node[el] for el in data_keys}} # get MUST data info\n",
    "        rest_sub_dict = {el:node[el] for el in node.keys() if el in rest_keys} # get extra data info\n",
    "        dict_node = {**data_sub_dict,**rest_sub_dict} # zip them\n",
    "        nodes_graph_list.append(dict_node) # add to the list\n",
    "    # start building edges\n",
    "    data_keys  = ['id', 'source', 'target'] # cyto logic\n",
    "    data_keys2 = ['label', 'classes'] # cyto logic\n",
    "    rest_keys  = ['score', 'weight', 'group', 'networkId', 'networkGroupId', 'intn',\n",
    "                  'rIntnId', 'group', 'removed', 'selected', 'selectable', 'locked',\n",
    "                  'grabbed', 'gra bbable', 'classes'] # cyto extra logic\n",
    "    edges_graph_list = []\n",
    "    # now loop over edges\n",
    "    for edge in edges_dict:\n",
    "        dict_edge = {}\n",
    "        data_sub_dict = {el:edge[el] for el in data_keys} # get MUST data info\n",
    "        data_sub_dict2 = {el:edge[el] for el in edge.keys() if el in data_keys2} # get MUST_2 data info\n",
    "        rest_sub_dict = {el:edge[el] for el in edge.keys() if el in rest_keys} # get extra data info\n",
    "        dict_edge = {'data':{**data_sub_dict,**data_sub_dict},**rest_sub_dict} # zip them\n",
    "        edges_graph_list.append(dict_edge) # add to the list\n",
    "    # create the combined edge+node dictionary\n",
    "    total_graph_dict = {'nodes': nodes_graph_list, 'edges':edges_graph_list}\n",
    "    # building the style\n",
    "    all_node_style = ['background-color', 'background-opacity',\n",
    "                     'font-family', 'font-size', 'label', 'width',\n",
    "                     'shape', 'height', 'width', 'text-valign', 'text-halign', 'underlay-color' ,'underlay-shape']\n",
    "    all_edge_style = ['background-color', 'background-opacity',\n",
    "                     'font-family', 'font-size', 'label', 'width', 'line-color', 'arrow', 'type', 'target-arrow-shape']\n",
    "    total_style_dict = {}\n",
    "    style_elements = []\n",
    "    # now construct the node styles\n",
    "    for node in nodes_dict:\n",
    "        node_dict = {'selector': f'node[id = \\\"{node[\"id\"]}\\\"]'}\n",
    "        style_dict ={\"style\": { el:node[el] for el in node.keys() if el in all_node_style}}\n",
    "        node_dict.update(style_dict)\n",
    "        style_elements.append(node_dict)\n",
    "    # now construct the edge styles\n",
    "    for edge in edges_dict:\n",
    "        edge_dict = {'selector': f'edge[id = \\\"{edge[\"id\"]}\\\"]'}\n",
    "        style_dict = {\"style\": { el:edge[el] for el in edge.keys() if el in all_edge_style}}\n",
    "        edge_dict.update(style_dict)\n",
    "        style_elements.append(edge_dict)\n",
    "    # now create the graph\n",
    "    data_graph = json.dumps(total_graph_dict)\n",
    "    json_to_python = json.loads(data_graph)\n",
    "    # result_cyto = CytoscapeWidget()\n",
    "    cyto_graph.graph.clear()\n",
    "    cyto_graph.graph.add_graph_from_json(json_to_python)\n",
    "    cyto_graph.set_style(style_elements)\n",
    "    # also save the initial json to a file\n",
    "    if init:\n",
    "        json_filename = 'init_config.json'\n",
    "        style_filename = 'init_style.json'\n",
    "        cyto_graph.set_layout(name = 'circle')\n",
    "    else:\n",
    "        json_filename = 'curr_config.json'\n",
    "        style_filename = 'curr_style.json'\n",
    "        cyto_graph.set_layout(name = 'breadthfirst')\n",
    "    with open(json_filename, 'w') as outfile:\n",
    "        json.dump(json_to_python, outfile)\n",
    "    with open(style_filename, 'w') as outfile:\n",
    "        json.dump(json_to_python, outfile)\n",
    "    # and return it\n",
    "    #return result_cyto\n",
    "\n",
    "# reset the graph\n",
    "def res_graph(node):\n",
    "    with out:\n",
    "        cyto_graph.graph.clear()\n",
    "        const_graph(df_nodes[df_nodes['subgraph'] == 'initial'], df_edges[df_nodes['subgraph'] == 'initial'], init=True)\n",
    "\n",
    "def log_clicks(node):\n",
    "    with out:\n",
    "        new_nodes = df_nodes['subgraph'] == node['data']['id'].replace(' ','')\n",
    "        const_graph(df_nodes[new_nodes], df_edges[new_nodes], init=False)\n",
    "        if len(df_edges[new_nodes]) == 0 or len(df_nodes[new_nodes]) == 0:\n",
    "            print('Empty subgraph, resetting view...')\n",
    "            res_graph(node)\n",
    "  \n",
    "\n",
    "# instantiate an jupyternotebook output\n",
    "out = Output()\n",
    "# instantiate a graph\n",
    "cyto_graph = CytoscapeWidget() # ok now create the cytoscape object\n",
    "const_graph(df_nodes[df_nodes['subgraph'] == 'initial'], df_edges[df_nodes['subgraph'] == 'initial'], init=True)\n",
    "\n",
    "#cyto_graph.on('node', 'click', log_clicks) # dynamically listen to left clicks\n",
    "cyto_graph.on('node', 'cxttap', res_graph) # dynamically listen to right clicks\n",
    "cyto_graph.on('node', 'click', log_clicks)\n",
    "\n",
    "\n",
    "display(cyto_graph) # display the object\n",
    "display(out) # display the output"
   ]
  },
  {
   "cell_type": "code",
   "execution_count": null,
   "id": "cf217e36-4084-4692-b4a8-43a9a0a97d11",
   "metadata": {},
   "outputs": [],
   "source": []
  },
  {
   "cell_type": "code",
   "execution_count": null,
   "id": "c01c1545-6898-42db-9880-a670de191590",
   "metadata": {},
   "outputs": [],
   "source": []
  }
 ],
 "metadata": {
  "kernelspec": {
   "display_name": "Python 3 (ipykernel)",
   "language": "python",
   "name": "python3"
  },
  "language_info": {
   "codemirror_mode": {
    "name": "ipython",
    "version": 3
   },
   "file_extension": ".py",
   "mimetype": "text/x-python",
   "name": "python",
   "nbconvert_exporter": "python",
   "pygments_lexer": "ipython3",
   "version": "3.8.18"
  }
 },
 "nbformat": 4,
 "nbformat_minor": 5
}